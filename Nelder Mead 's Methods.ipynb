{
 "cells": [
  {
   "cell_type": "markdown",
   "metadata": {},
   "source": [
    "Nelder Mead Method is used for doing unconstrained non-linear optimization. It does not rely on gradient. Therefore it is intuitive and simple. However, This method is prone to the initial guess. see details in https://zhuanlan.zhihu.com/p/34295339\n"
   ]
  },
  {
   "cell_type": "code",
   "execution_count": 101,
   "metadata": {},
   "outputs": [],
   "source": [
    "def NelderMead (func, x0, alpha = 1, gamma =2, rho =0.5, sigma =0.5, tol = 1e-5):\n",
    "    n= len(x0)\n",
    "    points = [x0 ]\n",
    "    for i in range(0,n):\n",
    "        x_new = x0.copy()\n",
    "        x_new[i] = x_new[i]+ 0.01\n",
    "        points.append(x_new)\n",
    "   \n",
    "    iter = 1\n",
    "    while (1):\n",
    "        if (iter>200) :\n",
    "            break\n",
    "        f = [func(i) for i in points ]\n",
    "        fsorted= np.sort(f)\n",
    "        psorted= [points[i] for i in np.argsort(f).tolist()]\n",
    "        gpoint = sum(psorted[0:n])/n\n",
    "        # Reflection\n",
    "        rpoint = gpoint + alpha * (gpoint - psorted[n])\n",
    "        f_rpoint = func(rpoint)\n",
    "        if ( f_rpoint < fsorted[n-1] and f_rpoint >= fsorted[0]):\n",
    "            psorted[n] = rpoint\n",
    "            points = psorted\n",
    "            iter = iter +1\n",
    "            continue\n",
    "        elif ( f_rpoint < fsorted[0]):\n",
    "            # extension\n",
    "            epoint = gpoint + gamma * ( rpoint - gpoint) \n",
    "            f_epoint = func(epoint)\n",
    "            if (f_epoint < f_rpoint):\n",
    "                psorted[n] = epoint\n",
    "            else:\n",
    "                psorted[n] = rpoint\n",
    "            points = psorted\n",
    "            iter = iter+1\n",
    "            continue\n",
    "        elif ( f_rpoint >= fsorted [n-1] and f_rpoint < fsorted[n]):\n",
    "            # contraction\n",
    "            cpoint = gpoint + rho * ( rpoint -gpoint)\n",
    "            f_cpoint = func (cpoint)\n",
    "            if (f_cpoint < f_rpoint):\n",
    "                psorted [n] = cpoint\n",
    "                points = psorted\n",
    "                iter = iter +1\n",
    "                continue\n",
    "        elif (f_rpoint >= fsorted[n]):\n",
    "            cpoint = gpoint +rho *(psorted[n] - gpoint)\n",
    "            f_cpoint = func (cpoint)\n",
    "            if (f_cpoint < fsorted [n]):\n",
    "                psorted [n] = cpoint\n",
    "                points = psorted\n",
    "                iter = iter + 1\n",
    "                continue\n",
    "\n",
    "        points = [ psorted[0]+sigma*(i - psorted[0])  for i in psorted  ]\n",
    "        if (np.linalg.norm(points[0]-points[n])<tol or iter >200):\n",
    "            break\n",
    "        iter = iter +1\n",
    "\n",
    "    return points"
   ]
  },
  {
   "cell_type": "code",
   "execution_count": 104,
   "metadata": {},
   "outputs": [
    {
     "data": {
      "text/plain": [
       "[array([-0.66666667,  4.99999998,  3.33333333]),\n",
       " array([-0.66666666,  4.99999999,  3.33333332]),\n",
       " array([-0.66666667,  5.        ,  3.33333334]),\n",
       " array([-0.66666667,  4.99999999,  3.33333333])]"
      ]
     },
     "execution_count": 104,
     "metadata": {},
     "output_type": "execute_result"
    }
   ],
   "source": [
    "import numpy as np\n",
    "from statistics import math\n",
    "def calc4(numbers):\n",
    "    x,y,z= numbers[0],numbers[1],numbers[2]\n",
    "    return (x-1)**2 +(y-5)**2 + (z-3)**2 + x*z\n",
    "\n",
    "# test \n",
    "NelderMead(calc4, np.array([1,1,1], dtype =float))"
   ]
  }
 ],
 "metadata": {
  "kernelspec": {
   "display_name": "Python 3",
   "language": "python",
   "name": "python3"
  },
  "language_info": {
   "codemirror_mode": {
    "name": "ipython",
    "version": 3
   },
   "file_extension": ".py",
   "mimetype": "text/x-python",
   "name": "python",
   "nbconvert_exporter": "python",
   "pygments_lexer": "ipython3",
   "version": "3.8.3"
  }
 },
 "nbformat": 4,
 "nbformat_minor": 4
}
