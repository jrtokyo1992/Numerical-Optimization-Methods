{
 "cells": [
  {
   "cell_type": "markdown",
   "metadata": {},
   "source": [
    "Golden Search is a Basic Optimization method dealing with 1-dimensional optimization problems. It has a low speed of convergence."
   ]
  },
  {
   "cell_type": "code",
   "execution_count": null,
   "metadata": {},
   "outputs": [],
   "source": [
    "from statistics import math\n",
    "def GSM(func, x_min, x_max, epsilon = 1e-5):\n",
    "    a, d = x_min, x_max\n",
    "    p = (math.sqrt(5)-1)/2\n",
    "    iter = 1\n",
    "    b, c = a*p + d*(1-p), a*(1-p)+d*p\n",
    "    while (1):\n",
    "        \n",
    "        fb, fc = func(b), func(c)\n",
    "        print(a,b,c,d, fb,fc)\n",
    "        if (fb> fc):\n",
    "            d = c\n",
    "            c = b\n",
    "            fc = fb\n",
    "            b = p*c + (1-p)*a\n",
    "            \n",
    "        else:\n",
    "            a = b\n",
    "            b =c\n",
    "            fb = fc\n",
    "            c = p*b+(1-p)*d\n",
    "           \n",
    "        if  (np.linalg.norm(a-d)<epsilon* max(1, np.linalg.norm(b)+np.linalg.norm(c)) or iter>100):\n",
    "            break\n",
    "        iter = iter+1\n",
    "    return b"
   ]
  }
 ],
 "metadata": {
  "kernelspec": {
   "display_name": "Python 3",
   "language": "python",
   "name": "python3"
  },
  "language_info": {
   "codemirror_mode": {
    "name": "ipython",
    "version": 3
   },
   "file_extension": ".py",
   "mimetype": "text/x-python",
   "name": "python",
   "nbconvert_exporter": "python",
   "pygments_lexer": "ipython3",
   "version": "3.8.3"
  }
 },
 "nbformat": 4,
 "nbformat_minor": 4
}
